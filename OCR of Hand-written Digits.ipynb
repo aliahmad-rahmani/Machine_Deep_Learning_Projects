{
  "nbformat": 4,
  "nbformat_minor": 0,
  "metadata": {
    "colab": {
      "provenance": [],
      "mount_file_id": "1Bw7zFOndrw4l1AOC58QJoeGcD2ZjnxwT",
      "authorship_tag": "ABX9TyMU2+TBYcGr+trtmafNsdiG",
      "include_colab_link": true
    },
    "kernelspec": {
      "name": "python3",
      "display_name": "Python 3"
    },
    "language_info": {
      "name": "python"
    }
  },
  "cells": [
    {
      "cell_type": "markdown",
      "metadata": {
        "id": "view-in-github",
        "colab_type": "text"
      },
      "source": [
        "<a href=\"https://colab.research.google.com/github/aliahmad-rahmani/Machine_Learning_Projects/blob/main/Project_1.ipynb\" target=\"_parent\"><img src=\"https://colab.research.google.com/assets/colab-badge.svg\" alt=\"Open In Colab\"/></a>"
      ]
    },
    {
      "cell_type": "code",
      "source": [
        "import numpy as np\n",
        "import cv2 as cv\n",
        "\n",
        "img = cv.imread('digits.png')\n",
        "gray = cv.cvtColor(img,cv.COLOR_BGR2GRAY)\n",
        "\n",
        "# Now we split the image to 5000 cells, each 20x20 size\n",
        "cells = [np.hsplit(row,100) for row in np.vsplit(gray,50)]\n",
        "\n",
        "# Make it into a Numpy array: its size will be (50,100,20,20)\n",
        "x = np.array(cells)\n",
        "\n",
        "# Now we prepare the training data and test data\n",
        "train = x[:,:50].reshape(-1,400).astype(np.float32) # Size = (2500,400)\n",
        "test = x[:,50:100].reshape(-1,400).astype(np.float32) # Size = (2500,400)\n",
        "\n",
        "# Create labels for train and test data\n",
        "k = np.arange(10)\n",
        "train_labels = np.repeat(k,250)[:,np.newaxis]\n",
        "test_labels = train_labels.copy()\n",
        "\n",
        "# Initiate kNN, train it on the training data, then test it with the test data with k=1\n",
        "knn = cv.ml.KNearest_create()\n",
        "knn.train(train, cv.ml.ROW_SAMPLE, train_labels)\n",
        "ret,result,neighbours,dist = knn.findNearest(test,k=5)\n",
        "\n",
        "# Now we check the accuracy of classification\n",
        "# For that, compare the result with test_labels and check which are wrong\n",
        "matches = result==test_labels\n",
        "correct = np.count_nonzero(matches)\n",
        "accuracy = correct*100.0/result.size\n",
        "print( accuracy )"
      ],
      "metadata": {
        "id": "Y4gyut0NPzXI"
      },
      "execution_count": null,
      "outputs": []
    }
  ]
}
